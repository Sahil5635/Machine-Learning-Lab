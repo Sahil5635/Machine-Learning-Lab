{
 "cells": [
  {
   "cell_type": "code",
   "execution_count": 1,
   "id": "64aec5f6-0678-4725-b65b-68777b462d28",
   "metadata": {},
   "outputs": [],
   "source": [
    "#list\n",
    "list=[]\n",
    "list=[1,2,3,'sahil',2.30]\n"
   ]
  },
  {
   "cell_type": "code",
   "execution_count": 2,
   "id": "312cf6a2-88d0-432e-8c49-b3f76d4bcd1b",
   "metadata": {},
   "outputs": [
    {
     "name": "stdout",
     "output_type": "stream",
     "text": [
      "[1, 2, 3, 'sahil', 2.3]\n"
     ]
    }
   ],
   "source": [
    "print(list)"
   ]
  },
  {
   "cell_type": "code",
   "execution_count": 3,
   "id": "8857ecd1-3917-4523-9f16-07ce3d2e27cc",
   "metadata": {},
   "outputs": [],
   "source": [
    "list.append(5)"
   ]
  },
  {
   "cell_type": "code",
   "execution_count": 4,
   "id": "0c84fa3e-224d-4b9f-b2f1-dd3c6e147b3b",
   "metadata": {},
   "outputs": [
    {
     "name": "stdout",
     "output_type": "stream",
     "text": [
      "[1, 2, 3, 'sahil', 2.3, 5]\n"
     ]
    }
   ],
   "source": [
    "print(list)"
   ]
  },
  {
   "cell_type": "code",
   "execution_count": 5,
   "id": "a63f4519-7ee9-49b3-8660-5e10b7edf57d",
   "metadata": {},
   "outputs": [],
   "source": [
    "list.remove(2.3)"
   ]
  },
  {
   "cell_type": "code",
   "execution_count": 6,
   "id": "304b758f-9719-43ed-a54a-1fde59d93cd9",
   "metadata": {},
   "outputs": [
    {
     "name": "stdout",
     "output_type": "stream",
     "text": [
      "[1, 2, 3, 'sahil', 5]\n"
     ]
    }
   ],
   "source": [
    "print(list)"
   ]
  },
  {
   "cell_type": "code",
   "execution_count": 7,
   "id": "02313304-2a67-4b04-8ecb-7f7d67370ae8",
   "metadata": {},
   "outputs": [
    {
     "name": "stdout",
     "output_type": "stream",
     "text": [
      "{}\n",
      "{1: 'Python', 2: 'Java'}\n"
     ]
    }
   ],
   "source": [
    "#dictornary\n",
    "dict = {} \n",
    "print(dict)\n",
    "dict = {1: 'Python', 2: 'Java'} \n",
    "print(dict)"
   ]
  },
  {
   "cell_type": "code",
   "execution_count": 11,
   "id": "63071b68-554c-460e-a79e-900f64b4de40",
   "metadata": {},
   "outputs": [
    {
     "name": "stdout",
     "output_type": "stream",
     "text": [
      "{1: 'Python', 2: 'Java'}\n"
     ]
    }
   ],
   "source": [
    "print(dict)"
   ]
  },
  {
   "cell_type": "code",
   "execution_count": 12,
   "id": "325bb3ea-a0a8-48c8-a042-5a8e1a52ea92",
   "metadata": {},
   "outputs": [],
   "source": [
    "dict[3]='ML'"
   ]
  },
  {
   "cell_type": "code",
   "execution_count": 13,
   "id": "5133f8b1-c17c-4949-ba22-58d18874f4be",
   "metadata": {},
   "outputs": [
    {
     "name": "stdout",
     "output_type": "stream",
     "text": [
      "{1: 'Python', 2: 'Java', 3: 'ML'}\n"
     ]
    }
   ],
   "source": [
    "print(dict)"
   ]
  },
  {
   "cell_type": "code",
   "execution_count": 14,
   "id": "4e16b66f-080b-4a6c-94c4-5f3b749876f8",
   "metadata": {},
   "outputs": [],
   "source": [
    "#tuples\n",
    "tuple=(1,2,3,4,'Sahil')"
   ]
  },
  {
   "cell_type": "code",
   "execution_count": 15,
   "id": "55222361-200b-4b80-a016-69a401b8bf7c",
   "metadata": {},
   "outputs": [
    {
     "name": "stdout",
     "output_type": "stream",
     "text": [
      "(1, 2, 3, 4, 'Sahil')\n"
     ]
    }
   ],
   "source": [
    "print(tuple)"
   ]
  },
  {
   "cell_type": "code",
   "execution_count": 17,
   "id": "5bd70e18-e210-489b-91e3-c09ffe61d334",
   "metadata": {},
   "outputs": [
    {
     "data": {
      "text/plain": [
       "1"
      ]
     },
     "execution_count": 17,
     "metadata": {},
     "output_type": "execute_result"
    }
   ],
   "source": [
    "tuple[0]"
   ]
  },
  {
   "cell_type": "code",
   "execution_count": 18,
   "id": "e43e0550-0b49-4844-b90c-dc271378c31d",
   "metadata": {},
   "outputs": [
    {
     "data": {
      "text/plain": [
       "(1, 2, 3, 4, 'Sahil')"
      ]
     },
     "execution_count": 18,
     "metadata": {},
     "output_type": "execute_result"
    }
   ],
   "source": [
    "tuple[:]"
   ]
  },
  {
   "cell_type": "markdown",
   "id": "32e9e686-7f8e-4821-b9ee-8e6a4654ca18",
   "metadata": {},
   "source": [
    "tuple[:1]"
   ]
  },
  {
   "cell_type": "code",
   "execution_count": 41,
   "id": "0d4827f1-aac5-4961-b289-f064a5eccbff",
   "metadata": {},
   "outputs": [
    {
     "ename": "SyntaxError",
     "evalue": "invalid syntax (1008244862.py, line 1)",
     "output_type": "error",
     "traceback": [
      "\u001b[1;36m  Input \u001b[1;32mIn [41]\u001b[1;36m\u001b[0m\n\u001b[1;33m    **tuple[2:]\u001b[0m\n\u001b[1;37m    ^\u001b[0m\n\u001b[1;31mSyntaxError\u001b[0m\u001b[1;31m:\u001b[0m invalid syntax\n"
     ]
    }
   ],
   "source": [
    "tuple[2:]"
   ]
  },
  {
   "cell_type": "code",
   "execution_count": 22,
   "id": "75982bff-3360-4833-a52a-7eca4e60d94e",
   "metadata": {},
   "outputs": [
    {
     "data": {
      "text/plain": [
       "(1, 2, 3)"
      ]
     },
     "execution_count": 22,
     "metadata": {},
     "output_type": "execute_result"
    }
   ],
   "source": [
    "tuple[:3]"
   ]
  },
  {
   "cell_type": "code",
   "execution_count": 24,
   "id": "bb75fa09-1de5-45fc-b3cd-7f6cdbbeb99b",
   "metadata": {},
   "outputs": [],
   "source": [
    "tuple=tuple+(7,8,9)"
   ]
  },
  {
   "cell_type": "code",
   "execution_count": 25,
   "id": "0ae7b3cd-4da7-4da7-bcc9-e4f4cb57676c",
   "metadata": {},
   "outputs": [
    {
     "name": "stdout",
     "output_type": "stream",
     "text": [
      "(1, 2, 3, 4, 'Sahil', 7, 8, 9)\n"
     ]
    }
   ],
   "source": [
    "print(tuple)"
   ]
  },
  {
   "cell_type": "code",
   "execution_count": 27,
   "id": "6c3a28e2-f481-4fb5-949f-6ab67a681450",
   "metadata": {},
   "outputs": [
    {
     "data": {
      "text/plain": [
       "(4, 'Sahil', 7, 8, 9)"
      ]
     },
     "execution_count": 27,
     "metadata": {},
     "output_type": "execute_result"
    }
   ],
   "source": [
    "tuple[3:]"
   ]
  },
  {
   "cell_type": "code",
   "execution_count": 29,
   "id": "030de093-4f3e-4bf3-b33d-ec8a8d6c0384",
   "metadata": {},
   "outputs": [
    {
     "data": {
      "text/plain": [
       "4"
      ]
     },
     "execution_count": 29,
     "metadata": {},
     "output_type": "execute_result"
    }
   ],
   "source": [
    "tuple[3]"
   ]
  },
  {
   "cell_type": "code",
   "execution_count": 30,
   "id": "70f75240-0389-4554-ab87-75db1af31789",
   "metadata": {},
   "outputs": [
    {
     "name": "stdout",
     "output_type": "stream",
     "text": [
      "{1, 2, 3, 4, 5, 6, 7}\n"
     ]
    }
   ],
   "source": [
    "#set\n",
    "set={1,2,3,4,5,6,7}\n",
    "print(set)"
   ]
  },
  {
   "cell_type": "code",
   "execution_count": 31,
   "id": "e1207887-263b-4d33-b8b9-5d35d662bd60",
   "metadata": {},
   "outputs": [],
   "source": [
    "set.add(10)"
   ]
  },
  {
   "cell_type": "code",
   "execution_count": 32,
   "id": "3063e28f-ed1d-42ba-a731-fb65ec582fcc",
   "metadata": {},
   "outputs": [
    {
     "data": {
      "text/plain": [
       "{1, 2, 3, 4, 5, 6, 7, 10}"
      ]
     },
     "execution_count": 32,
     "metadata": {},
     "output_type": "execute_result"
    }
   ],
   "source": [
    "set"
   ]
  },
  {
   "cell_type": "code",
   "execution_count": 36,
   "id": "02669bbb-14a6-40f6-9f24-acbd987f876f",
   "metadata": {},
   "outputs": [],
   "source": [
    "set1={667,56,1,2}"
   ]
  },
  {
   "cell_type": "code",
   "execution_count": 37,
   "id": "113deb07-a8c4-4f88-8dd0-0c21246273bc",
   "metadata": {},
   "outputs": [
    {
     "data": {
      "text/plain": [
       "{1, 2, 3, 4, 5, 6, 7, 10, 56, 667}"
      ]
     },
     "execution_count": 37,
     "metadata": {},
     "output_type": "execute_result"
    }
   ],
   "source": [
    "set.union(set1)"
   ]
  },
  {
   "cell_type": "code",
   "execution_count": 39,
   "id": "95020da5-546f-4acf-9693-02169092c063",
   "metadata": {},
   "outputs": [
    {
     "data": {
      "text/plain": [
       "{1, 2}"
      ]
     },
     "execution_count": 39,
     "metadata": {},
     "output_type": "execute_result"
    }
   ],
   "source": [
    "set.intersection(set1)"
   ]
  },
  {
   "cell_type": "code",
   "execution_count": null,
   "id": "dd5d8f09-544d-440c-9ba6-b06abaa3e7a1",
   "metadata": {},
   "outputs": [],
   "source": []
  },
  {
   "cell_type": "markdown",
   "id": "156af40b-fb72-488a-96e7-dbcb6c74c32f",
   "metadata": {},
   "source": [
    "**haa**"
   ]
  },
  {
   "cell_type": "code",
   "execution_count": null,
   "id": "3a9c1e3f-cb15-43d3-b1b6-1e414a8d5ff8",
   "metadata": {},
   "outputs": [],
   "source": []
  },
  {
   "cell_type": "code",
   "execution_count": null,
   "id": "4b5745a1-bb3c-4bdf-a7a3-e6300d7c3ea7",
   "metadata": {},
   "outputs": [],
   "source": []
  },
  {
   "cell_type": "code",
   "execution_count": null,
   "id": "5ea0149c-2cec-4b2a-bcec-05ed87ed82a0",
   "metadata": {},
   "outputs": [],
   "source": []
  },
  {
   "cell_type": "code",
   "execution_count": null,
   "id": "78502b96-1428-4dbe-b39a-d8b5d4b3d320",
   "metadata": {},
   "outputs": [],
   "source": []
  },
  {
   "cell_type": "code",
   "execution_count": null,
   "id": "97040978-c2c9-41cb-9d25-b5a15d7afe3a",
   "metadata": {},
   "outputs": [],
   "source": []
  },
  {
   "cell_type": "code",
   "execution_count": null,
   "id": "baf427f8-5964-44cb-b77d-4bf75c93447f",
   "metadata": {},
   "outputs": [],
   "source": []
  },
  {
   "cell_type": "code",
   "execution_count": null,
   "id": "f9bd12c7-c592-4d50-b978-77543b3d0bc4",
   "metadata": {},
   "outputs": [],
   "source": []
  }
 ],
 "metadata": {
  "kernelspec": {
   "display_name": "Python 3 (ipykernel)",
   "language": "python",
   "name": "python3"
  },
  "language_info": {
   "codemirror_mode": {
    "name": "ipython",
    "version": 3
   },
   "file_extension": ".py",
   "mimetype": "text/x-python",
   "name": "python",
   "nbconvert_exporter": "python",
   "pygments_lexer": "ipython3",
   "version": "3.9.12"
  }
 },
 "nbformat": 4,
 "nbformat_minor": 5
}
